{
 "cells": [
  {
   "cell_type": "markdown",
   "metadata": {},
   "source": [
    "## STM Football Game Generator Guide\n",
    "\n",
    "### Introduction\n",
    "The provided code simulates football (soccer) games using a State Transition Matrix (STM) methodology. This guide elucidates the process for generating these games leveraging the `app.py` and `index.html` files.\n",
    "\n",
    "### Requirements\n",
    "1. Python environment with Flask installed.\n",
    "2. A browser for accessing the Game Generator UI.\n",
    "3. `match_1.json`: Contains the requisite data to compute the transition matrix. Should reside in the same directory as `app.py`.\n",
    "\n",
    "### Steps\n",
    "\n",
    "## Directory Structure:\n",
    "\n",
    "- app.py\n",
    "- templates/\n",
    "  - index.html\n",
    "- games_generated\n",
    "- match_1.json\n",
    "\n",
    "**Note:** If the `games_generated` folder is missing, manually create it adjacent to `app.py`. This will store the generated games.\n",
    "\n",
    "#### 2. Running the Flask Server\n",
    "\n",
    "\n",
    "Before launching the Flask application, the necessary library, Flask, should be installed. To launch the application:\n",
    "\n",
    "\n",
    "1. Navigate to the directory that contains `app.py`.\n",
    "2. In the terminal, run the following command to start the Flask application: `python app.py` \n",
    "3. Access the Game Generator interface via your browser at `http://127.0.0.1:5000/`.\n",
    "\n",
    "#### 3. Generating Games\n",
    "\n",
    "With the Flask server operational:\n",
    "\n",
    "1. Launch a browser and head to `http://127.0.0.1:5000/`.\n",
    "2. The Game Generator page will be displayed, complete with fields to define the number of games, duration, time unit, and gameplay style.\n",
    "3. Populate the fields:\n",
    "   - **Number of Games**: Define the quantity of games for generation.\n",
    "   - **Duration**: Specify the desired simulated game duration.\n",
    "   - **Time Unit**: Choose between seconds, minutes, or hours, determining the simulation's total length.\n",
    "   - **Style**: Opt for a gameplay style:\n",
    "     - **Attacking**: Accentuates offensive moves like shooting and passing.\n",
    "     - **Defensive**: Emphasizes defensive maneuvers.\n",
    "     - **Normal**: No particular emphasis.\n",
    "4. Click \"Generate Game\".\n",
    "5. The generated games will be stored as JSON files within the `games_generated` folder. Every game file will possess a distinct name, informed by its style, duration, and timestamp.\n",
    "\n",
    "#### 4. Unpacking the Logic\n",
    "\n",
    "- **Transition Matrix (STM)**: This matrix displays the transition probability from one action (like 'walk') to another (e.g., 'run'). It's derived from the `match_1.json` data.\n",
    "- **Style Modifications**: These are predefined tweaks to the transition matrix based on gameplay style.\n",
    "- **Game Simulation**: Leveraging the refined transition matrix and the stipulated game duration, the simulator churns out a sequence of actions and norms that resonate with a genuine game's progression.\n",
    "\n",
    "### Wrap-Up\n",
    "By adhering to the outlined steps, you'll be primed to successfully generate simulated football games using the STM approach. The games can be retrieved from the `games_generated` folder for subsequent analysis or application.\n"
   ]
  },
  {
   "cell_type": "code",
   "execution_count": null,
   "metadata": {},
   "outputs": [],
   "source": []
  }
 ],
 "metadata": {
  "kernelspec": {
   "display_name": "Python 3",
   "language": "python",
   "name": "python3"
  },
  "language_info": {
   "codemirror_mode": {
    "name": "ipython",
    "version": 3
   },
   "file_extension": ".py",
   "mimetype": "text/x-python",
   "name": "python",
   "nbconvert_exporter": "python",
   "pygments_lexer": "ipython3",
   "version": "3.8.5"
  }
 },
 "nbformat": 4,
 "nbformat_minor": 4
}
