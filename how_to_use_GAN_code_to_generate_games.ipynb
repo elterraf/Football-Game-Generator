{
 "cells": [
  {
   "cell_type": "markdown",
   "metadata": {},
   "source": [
    "## GAN Football Game Generator Guide\n",
    "\n",
    "### Introduction\n",
    "The provided code simulates football (soccer) games using a GAN methodology. This guide elucidates the process for generating these games leveraging the `app.py` and `index.html` files.\n"
   ]
  },
  {
   "cell_type": "markdown",
   "metadata": {},
   "source": [
    "# Running the Flask Game Generator Web Application\n",
    "\n",
    "## Prerequisites\n",
    "- Make sure you have Python and Flask installed on your system. If not, you can install Flask using pip\n",
    "\n",
    "\n",
    "## Project Structure\n",
    "- Ensure that your project directory structure looks like this:\n",
    "\n",
    "- app.py\n",
    "- templates/\n",
    "  - index.html\n",
    "- saved_games\n",
    "- match_1.json\n",
    "- generator_model.h5\n",
    "\n",
    "**Note:** If the `saved_games` folder is missing, manually create it adjacent to `app.py`. This will store the generated games.\n",
    "\n",
    "\n",
    "## Starting the Application\n",
    "1. Open a terminal or command prompt.\n",
    "2. Navigate to your project directory using the `cd` command:\n",
    "\n",
    "## Running the Application\n",
    "\n",
    "To launch the application:\n",
    "\n",
    "1. Navigate to the directory that contains `app.py`.\n",
    "2. In the terminal, run the following command to start the Flask application: `python app.py` \n",
    "3. Open your web browser and navigate to `http://127.0.0.1:5000/` or `http://localhost:5000/` to access the Game Generator web application.\n",
    "\n",
    "## Using the Web Application\n",
    "6. You will see a web form with options to configure the game parameters, including game length and the number of games to generate.\n",
    "\n",
    "## Generating Games\n",
    "7. Fill in the desired parameters in the form:\n",
    "- **Game Length (Seconds):** Enter the desired duration of the game in seconds.\n",
    "- **Number of Games:** Specify the number of games you want to generate.\n",
    "\n",
    "8. Click the \"Generate Games\" button located within the form.\n",
    "\n",
    "## Viewing Generated Games\n",
    "9. The application will start generating games based on the provided parameters. This process may take some time, especially if you are generating multiple games.\n",
    "\n",
    "10. Once the games are generated successfully, you will see a message indicating success.\n",
    "\n",
    "11. You can access the generated games in the \"saved_games\" folder within your project directory. Each generated game is saved as a JSON file.\n",
    "\n",
    "## Stopping the Application\n",
    "12. To stop the Flask application, you can press `CTRL+C` in the terminal where the application is running.\n",
    "\n",
    "Enjoy using the Game Generator web application to create simulated football games based on your preferences!\n",
    "\n"
   ]
  },
  {
   "cell_type": "code",
   "execution_count": null,
   "metadata": {},
   "outputs": [],
   "source": []
  }
 ],
 "metadata": {
  "kernelspec": {
   "display_name": "Python 3",
   "language": "python",
   "name": "python3"
  },
  "language_info": {
   "codemirror_mode": {
    "name": "ipython",
    "version": 3
   },
   "file_extension": ".py",
   "mimetype": "text/x-python",
   "name": "python",
   "nbconvert_exporter": "python",
   "pygments_lexer": "ipython3",
   "version": "3.8.5"
  }
 },
 "nbformat": 4,
 "nbformat_minor": 4
}
